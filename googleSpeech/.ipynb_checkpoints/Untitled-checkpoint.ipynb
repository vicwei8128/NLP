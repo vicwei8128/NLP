{
 "cells": [
  {
   "cell_type": "code",
   "execution_count": 7,
   "id": "55a74f2a",
   "metadata": {},
   "outputs": [
    {
     "name": "stdout",
     "output_type": "stream",
     "text": [
      "Requirement already satisfied: google-cloud-speech in c:\\users\\tibame_t14\\anaconda3\\envs\\ai python class\\lib\\site-packages (2.12.0)Note: you may need to restart the kernel to use updated packages.\n",
      "Requirement already satisfied: google-cloud-storage in c:\\users\\tibame_t14\\anaconda3\\envs\\ai python class\\lib\\site-packages (2.1.0)\n",
      "\n",
      "Requirement already satisfied: google-api-core[grpc]<3.0.0dev,>=1.28.0 in c:\\users\\tibame_t14\\anaconda3\\envs\\ai python class\\lib\\site-packages (from google-cloud-speech) (2.5.0)\n",
      "Requirement already satisfied: libcst>=0.2.5 in c:\\users\\tibame_t14\\anaconda3\\envs\\ai python class\\lib\\site-packages (from google-cloud-speech) (0.4.1)\n",
      "Requirement already satisfied: proto-plus>=1.4.0 in c:\\users\\tibame_t14\\anaconda3\\envs\\ai python class\\lib\\site-packages (from google-cloud-speech) (1.20.3)\n",
      "Requirement already satisfied: protobuf in c:\\users\\tibame_t14\\anaconda3\\envs\\ai python class\\lib\\site-packages (from google-cloud-storage) (3.19.1)\n",
      "Requirement already satisfied: google-auth<3.0dev,>=1.25.0 in c:\\users\\tibame_t14\\anaconda3\\envs\\ai python class\\lib\\site-packages (from google-cloud-storage) (2.5.0)\n",
      "Requirement already satisfied: google-resumable-media>=1.3.0 in c:\\users\\tibame_t14\\anaconda3\\envs\\ai python class\\lib\\site-packages (from google-cloud-storage) (2.2.1)\n",
      "Requirement already satisfied: google-cloud-core<3.0dev,>=1.6.0 in c:\\users\\tibame_t14\\anaconda3\\envs\\ai python class\\lib\\site-packages (from google-cloud-storage) (2.2.2)\n",
      "Requirement already satisfied: requests<3.0.0dev,>=2.18.0 in c:\\users\\tibame_t14\\anaconda3\\envs\\ai python class\\lib\\site-packages (from google-cloud-storage) (2.26.0)\n",
      "Requirement already satisfied: googleapis-common-protos<2.0dev,>=1.52.0 in c:\\users\\tibame_t14\\anaconda3\\envs\\ai python class\\lib\\site-packages (from google-api-core[grpc]<3.0.0dev,>=1.28.0->google-cloud-speech) (1.54.0)\n",
      "Requirement already satisfied: grpcio<2.0dev,>=1.33.2 in c:\\users\\tibame_t14\\anaconda3\\envs\\ai python class\\lib\\site-packages (from google-api-core[grpc]<3.0.0dev,>=1.28.0->google-cloud-speech) (1.44.0)\n",
      "Requirement already satisfied: grpcio-status<2.0dev,>=1.33.2 in c:\\users\\tibame_t14\\anaconda3\\envs\\ai python class\\lib\\site-packages (from google-api-core[grpc]<3.0.0dev,>=1.28.0->google-cloud-speech) (1.44.0)\n",
      "Requirement already satisfied: cachetools<6.0,>=2.0.0 in c:\\users\\tibame_t14\\anaconda3\\envs\\ai python class\\lib\\site-packages (from google-auth<3.0dev,>=1.25.0->google-cloud-storage) (5.0.0)\n",
      "Requirement already satisfied: rsa<5,>=3.1.4 in c:\\users\\tibame_t14\\anaconda3\\envs\\ai python class\\lib\\site-packages (from google-auth<3.0dev,>=1.25.0->google-cloud-storage) (4.8)\n",
      "Requirement already satisfied: pyasn1-modules>=0.2.1 in c:\\users\\tibame_t14\\anaconda3\\envs\\ai python class\\lib\\site-packages (from google-auth<3.0dev,>=1.25.0->google-cloud-storage) (0.2.8)\n",
      "Requirement already satisfied: six>=1.9.0 in c:\\users\\tibame_t14\\anaconda3\\envs\\ai python class\\lib\\site-packages (from google-auth<3.0dev,>=1.25.0->google-cloud-storage) (1.16.0)\n",
      "Requirement already satisfied: google-crc32c<2.0dev,>=1.0 in c:\\users\\tibame_t14\\anaconda3\\envs\\ai python class\\lib\\site-packages (from google-resumable-media>=1.3.0->google-cloud-storage) (1.3.0)\n",
      "Requirement already satisfied: pyyaml>=5.2 in c:\\users\\tibame_t14\\anaconda3\\envs\\ai python class\\lib\\site-packages (from libcst>=0.2.5->google-cloud-speech) (6.0)\n",
      "Requirement already satisfied: typing-extensions>=3.7.4.2 in c:\\users\\tibame_t14\\anaconda3\\envs\\ai python class\\lib\\site-packages (from libcst>=0.2.5->google-cloud-speech) (3.10.0.2)\n",
      "Requirement already satisfied: typing-inspect>=0.4.0 in c:\\users\\tibame_t14\\anaconda3\\envs\\ai python class\\lib\\site-packages (from libcst>=0.2.5->google-cloud-speech) (0.7.1)\n",
      "Requirement already satisfied: pyasn1<0.5.0,>=0.4.6 in c:\\users\\tibame_t14\\anaconda3\\envs\\ai python class\\lib\\site-packages (from pyasn1-modules>=0.2.1->google-auth<3.0dev,>=1.25.0->google-cloud-storage) (0.4.8)\n",
      "Requirement already satisfied: idna<4,>=2.5 in c:\\users\\tibame_t14\\anaconda3\\envs\\ai python class\\lib\\site-packages (from requests<3.0.0dev,>=2.18.0->google-cloud-storage) (3.3)\n",
      "Requirement already satisfied: urllib3<1.27,>=1.21.1 in c:\\users\\tibame_t14\\anaconda3\\envs\\ai python class\\lib\\site-packages (from requests<3.0.0dev,>=2.18.0->google-cloud-storage) (1.26.7)\n",
      "Requirement already satisfied: charset-normalizer~=2.0.0 in c:\\users\\tibame_t14\\anaconda3\\envs\\ai python class\\lib\\site-packages (from requests<3.0.0dev,>=2.18.0->google-cloud-storage) (2.0.4)\n",
      "Requirement already satisfied: certifi>=2017.4.17 in c:\\users\\tibame_t14\\anaconda3\\envs\\ai python class\\lib\\site-packages (from requests<3.0.0dev,>=2.18.0->google-cloud-storage) (2020.6.20)\n",
      "Requirement already satisfied: mypy-extensions>=0.3.0 in c:\\users\\tibame_t14\\anaconda3\\envs\\ai python class\\lib\\site-packages (from typing-inspect>=0.4.0->libcst>=0.2.5->google-cloud-speech) (0.4.3)\n"
     ]
    }
   ],
   "source": [
    "pip install google-cloud-speech google-cloud-storage --upgrade"
   ]
  },
  {
   "cell_type": "code",
   "execution_count": 6,
   "id": "df3b230e",
   "metadata": {
    "scrolled": true
   },
   "outputs": [
    {
     "ename": "AttributeError",
     "evalue": "module 'google.protobuf.descriptor' has no attribute '_internal_create_key'",
     "output_type": "error",
     "traceback": [
      "\u001b[1;31m---------------------------------------------------------------------------\u001b[0m",
      "\u001b[1;31mAttributeError\u001b[0m                            Traceback (most recent call last)",
      "\u001b[1;32m<ipython-input-6-4102b6c7bdf0>\u001b[0m in \u001b[0;36m<module>\u001b[1;34m\u001b[0m\n\u001b[0;32m      1\u001b[0m \u001b[1;32mimport\u001b[0m \u001b[0mos\u001b[0m\u001b[1;33m\u001b[0m\u001b[0m\n\u001b[1;32m----> 2\u001b[1;33m \u001b[1;32mfrom\u001b[0m \u001b[0mgoogle\u001b[0m\u001b[1;33m.\u001b[0m\u001b[0mcloud\u001b[0m \u001b[1;32mimport\u001b[0m \u001b[0mspeech\u001b[0m\u001b[1;33m,\u001b[0m \u001b[0mstorage\u001b[0m\u001b[1;33m\u001b[0m\u001b[0m\n\u001b[0m\u001b[0;32m      3\u001b[0m \u001b[1;33m\u001b[0m\u001b[0m\n\u001b[0;32m      4\u001b[0m \u001b[0mYOUR_SERVICE\u001b[0m \u001b[1;33m=\u001b[0m \u001b[1;34m'speechtotext.json'\u001b[0m\u001b[1;33m\u001b[0m\u001b[0m\n\u001b[0;32m      5\u001b[0m \u001b[0mYOUR_AUDIO\u001b[0m \u001b[1;33m=\u001b[0m \u001b[1;34m'30.flac'\u001b[0m\u001b[1;33m\u001b[0m\u001b[0m\n",
      "\u001b[1;32m~\\anaconda3\\envs\\AI python class\\lib\\site-packages\\google\\cloud\\speech\\__init__.py\u001b[0m in \u001b[0;36m<module>\u001b[1;34m\u001b[0m\n\u001b[0;32m     15\u001b[0m \u001b[1;31m#\u001b[0m\u001b[1;33m\u001b[0m\u001b[1;33m\u001b[0m\u001b[0m\n\u001b[0;32m     16\u001b[0m \u001b[1;33m\u001b[0m\u001b[0m\n\u001b[1;32m---> 17\u001b[1;33m \u001b[1;32mfrom\u001b[0m \u001b[0mgoogle\u001b[0m\u001b[1;33m.\u001b[0m\u001b[0mcloud\u001b[0m\u001b[1;33m.\u001b[0m\u001b[0mspeech_v1\u001b[0m \u001b[1;32mimport\u001b[0m \u001b[0mSpeechClient\u001b[0m\u001b[1;33m\u001b[0m\u001b[0m\n\u001b[0m\u001b[0;32m     18\u001b[0m \u001b[1;32mfrom\u001b[0m \u001b[0mgoogle\u001b[0m\u001b[1;33m.\u001b[0m\u001b[0mcloud\u001b[0m\u001b[1;33m.\u001b[0m\u001b[0mspeech_v1\u001b[0m\u001b[1;33m.\u001b[0m\u001b[0mservices\u001b[0m\u001b[1;33m.\u001b[0m\u001b[0mspeech\u001b[0m\u001b[1;33m.\u001b[0m\u001b[0masync_client\u001b[0m \u001b[1;32mimport\u001b[0m \u001b[0mSpeechAsyncClient\u001b[0m\u001b[1;33m\u001b[0m\u001b[0m\n\u001b[0;32m     19\u001b[0m \u001b[1;33m\u001b[0m\u001b[0m\n",
      "\u001b[1;32m~\\anaconda3\\envs\\AI python class\\lib\\site-packages\\google\\cloud\\speech_v1\\__init__.py\u001b[0m in \u001b[0;36m<module>\u001b[1;34m\u001b[0m\n\u001b[0;32m     15\u001b[0m \u001b[1;31m#\u001b[0m\u001b[1;33m\u001b[0m\u001b[1;33m\u001b[0m\u001b[0m\n\u001b[0;32m     16\u001b[0m \u001b[1;33m\u001b[0m\u001b[0m\n\u001b[1;32m---> 17\u001b[1;33m \u001b[1;32mfrom\u001b[0m \u001b[1;33m.\u001b[0m\u001b[0mservices\u001b[0m\u001b[1;33m.\u001b[0m\u001b[0mspeech\u001b[0m \u001b[1;32mimport\u001b[0m \u001b[0mSpeechClient\u001b[0m\u001b[1;33m\u001b[0m\u001b[0m\n\u001b[0m\u001b[0;32m     18\u001b[0m \u001b[1;32mfrom\u001b[0m \u001b[1;33m.\u001b[0m\u001b[0mservices\u001b[0m\u001b[1;33m.\u001b[0m\u001b[0mspeech\u001b[0m \u001b[1;32mimport\u001b[0m \u001b[0mSpeechAsyncClient\u001b[0m\u001b[1;33m\u001b[0m\u001b[0m\n\u001b[0;32m     19\u001b[0m \u001b[1;33m\u001b[0m\u001b[0m\n",
      "\u001b[1;32m~\\anaconda3\\envs\\AI python class\\lib\\site-packages\\google\\cloud\\speech_v1\\services\\speech\\__init__.py\u001b[0m in \u001b[0;36m<module>\u001b[1;34m\u001b[0m\n\u001b[0;32m     14\u001b[0m \u001b[1;31m# limitations under the License.\u001b[0m\u001b[1;33m\u001b[0m\u001b[1;33m\u001b[0m\u001b[0m\n\u001b[0;32m     15\u001b[0m \u001b[1;31m#\u001b[0m\u001b[1;33m\u001b[0m\u001b[1;33m\u001b[0m\u001b[0m\n\u001b[1;32m---> 16\u001b[1;33m \u001b[1;32mfrom\u001b[0m \u001b[1;33m.\u001b[0m\u001b[0mclient\u001b[0m \u001b[1;32mimport\u001b[0m \u001b[0mSpeechClient\u001b[0m\u001b[1;33m\u001b[0m\u001b[0m\n\u001b[0m\u001b[0;32m     17\u001b[0m \u001b[1;32mfrom\u001b[0m \u001b[1;33m.\u001b[0m\u001b[0masync_client\u001b[0m \u001b[1;32mimport\u001b[0m \u001b[0mSpeechAsyncClient\u001b[0m\u001b[1;33m\u001b[0m\u001b[0m\n\u001b[0;32m     18\u001b[0m \u001b[1;33m\u001b[0m\u001b[0m\n",
      "\u001b[1;32m~\\anaconda3\\envs\\AI python class\\lib\\site-packages\\google\\cloud\\speech_v1\\services\\speech\\client.py\u001b[0m in \u001b[0;36m<module>\u001b[1;34m\u001b[0m\n\u001b[0;32m     21\u001b[0m \u001b[1;33m\u001b[0m\u001b[0m\n\u001b[0;32m     22\u001b[0m \u001b[1;32mfrom\u001b[0m \u001b[0mgoogle\u001b[0m\u001b[1;33m.\u001b[0m\u001b[0mapi_core\u001b[0m \u001b[1;32mimport\u001b[0m \u001b[0mclient_options\u001b[0m \u001b[1;32mas\u001b[0m \u001b[0mclient_options_lib\u001b[0m\u001b[1;33m\u001b[0m\u001b[0m\n\u001b[1;32m---> 23\u001b[1;33m \u001b[1;32mfrom\u001b[0m \u001b[0mgoogle\u001b[0m\u001b[1;33m.\u001b[0m\u001b[0mapi_core\u001b[0m \u001b[1;32mimport\u001b[0m \u001b[0mexceptions\u001b[0m \u001b[1;32mas\u001b[0m \u001b[0mcore_exceptions\u001b[0m\u001b[1;33m\u001b[0m\u001b[0m\n\u001b[0m\u001b[0;32m     24\u001b[0m \u001b[1;32mfrom\u001b[0m \u001b[0mgoogle\u001b[0m\u001b[1;33m.\u001b[0m\u001b[0mapi_core\u001b[0m \u001b[1;32mimport\u001b[0m \u001b[0mgapic_v1\u001b[0m\u001b[1;33m\u001b[0m\u001b[0m\n\u001b[0;32m     25\u001b[0m \u001b[1;32mfrom\u001b[0m \u001b[0mgoogle\u001b[0m\u001b[1;33m.\u001b[0m\u001b[0mapi_core\u001b[0m \u001b[1;32mimport\u001b[0m \u001b[0mretry\u001b[0m \u001b[1;32mas\u001b[0m \u001b[0mretries\u001b[0m\u001b[1;33m\u001b[0m\u001b[0m\n",
      "\u001b[1;32m~\\anaconda3\\envs\\AI python class\\lib\\site-packages\\google\\api_core\\exceptions.py\u001b[0m in \u001b[0;36m<module>\u001b[1;34m\u001b[0m\n\u001b[0;32m     26\u001b[0m \u001b[1;32mfrom\u001b[0m \u001b[0mtyping\u001b[0m \u001b[1;32mimport\u001b[0m \u001b[0mUnion\u001b[0m\u001b[1;33m\u001b[0m\u001b[0m\n\u001b[0;32m     27\u001b[0m \u001b[1;33m\u001b[0m\u001b[0m\n\u001b[1;32m---> 28\u001b[1;33m \u001b[1;32mfrom\u001b[0m \u001b[0mgoogle\u001b[0m\u001b[1;33m.\u001b[0m\u001b[0mrpc\u001b[0m \u001b[1;32mimport\u001b[0m \u001b[0merror_details_pb2\u001b[0m\u001b[1;33m\u001b[0m\u001b[0m\n\u001b[0m\u001b[0;32m     29\u001b[0m \u001b[1;33m\u001b[0m\u001b[0m\n\u001b[0;32m     30\u001b[0m \u001b[1;32mtry\u001b[0m\u001b[1;33m:\u001b[0m\u001b[1;33m\u001b[0m\u001b[0m\n",
      "\u001b[1;32m~\\anaconda3\\envs\\AI python class\\lib\\site-packages\\google\\rpc\\error_details_pb2.py\u001b[0m in \u001b[0;36m<module>\u001b[1;34m\u001b[0m\n\u001b[0;32m     36\u001b[0m     \u001b[0msyntax\u001b[0m\u001b[1;33m=\u001b[0m\u001b[1;34m\"proto3\"\u001b[0m\u001b[1;33m,\u001b[0m\u001b[1;33m\u001b[0m\u001b[0m\n\u001b[0;32m     37\u001b[0m     \u001b[0mserialized_options\u001b[0m\u001b[1;33m=\u001b[0m\u001b[1;34mb\"\\n\\016com.google.rpcB\\021ErrorDetailsProtoP\\001Z?google.golang.org/genproto/googleapis/rpc/errdetails;errdetails\\242\\002\\003RPC\"\u001b[0m\u001b[1;33m,\u001b[0m\u001b[1;33m\u001b[0m\u001b[0m\n\u001b[1;32m---> 38\u001b[1;33m     \u001b[0mcreate_key\u001b[0m\u001b[1;33m=\u001b[0m\u001b[0m_descriptor\u001b[0m\u001b[1;33m.\u001b[0m\u001b[0m_internal_create_key\u001b[0m\u001b[1;33m,\u001b[0m\u001b[1;33m\u001b[0m\u001b[0m\n\u001b[0m\u001b[0;32m     39\u001b[0m     \u001b[0mserialized_pb\u001b[0m\u001b[1;33m=\u001b[0m\u001b[1;34mb'\\n\\x1egoogle/rpc/error_details.proto\\x12\\ngoogle.rpc\\x1a\\x1egoogle/protobuf/duration.proto\";\\n\\tRetryInfo\\x12.\\n\\x0bretry_delay\\x18\\x01 \\x01(\\x0b\\x32\\x19.google.protobuf.Duration\"2\\n\\tDebugInfo\\x12\\x15\\n\\rstack_entries\\x18\\x01 \\x03(\\t\\x12\\x0e\\n\\x06\\x64\\x65tail\\x18\\x02 \\x01(\\t\"y\\n\\x0cQuotaFailure\\x12\\x36\\n\\nviolations\\x18\\x01 \\x03(\\x0b\\x32\".google.rpc.QuotaFailure.Violation\\x1a\\x31\\n\\tViolation\\x12\\x0f\\n\\x07subject\\x18\\x01 \\x01(\\t\\x12\\x13\\n\\x0b\\x64\\x65scription\\x18\\x02 \\x01(\\t\"\\x93\\x01\\n\\tErrorInfo\\x12\\x0e\\n\\x06reason\\x18\\x01 \\x01(\\t\\x12\\x0e\\n\\x06\\x64omain\\x18\\x02 \\x01(\\t\\x12\\x35\\n\\x08metadata\\x18\\x03 \\x03(\\x0b\\x32#.google.rpc.ErrorInfo.MetadataEntry\\x1a/\\n\\rMetadataEntry\\x12\\x0b\\n\\x03key\\x18\\x01 \\x01(\\t\\x12\\r\\n\\x05value\\x18\\x02 \\x01(\\t:\\x02\\x38\\x01\"\\x95\\x01\\n\\x13PreconditionFailure\\x12=\\n\\nviolations\\x18\\x01 \\x03(\\x0b\\x32).google.rpc.PreconditionFailure.Violation\\x1a?\\n\\tViolation\\x12\\x0c\\n\\x04type\\x18\\x01 \\x01(\\t\\x12\\x0f\\n\\x07subject\\x18\\x02 \\x01(\\t\\x12\\x13\\n\\x0b\\x64\\x65scription\\x18\\x03 \\x01(\\t\"\\x83\\x01\\n\\nBadRequest\\x12?\\n\\x10\\x66ield_violations\\x18\\x01 \\x03(\\x0b\\x32%.google.rpc.BadRequest.FieldViolation\\x1a\\x34\\n\\x0e\\x46ieldViolation\\x12\\r\\n\\x05\\x66ield\\x18\\x01 \\x01(\\t\\x12\\x13\\n\\x0b\\x64\\x65scription\\x18\\x02 \\x01(\\t\"7\\n\\x0bRequestInfo\\x12\\x12\\n\\nrequest_id\\x18\\x01 \\x01(\\t\\x12\\x14\\n\\x0cserving_data\\x18\\x02 \\x01(\\t\"`\\n\\x0cResourceInfo\\x12\\x15\\n\\rresource_type\\x18\\x01 \\x01(\\t\\x12\\x15\\n\\rresource_name\\x18\\x02 \\x01(\\t\\x12\\r\\n\\x05owner\\x18\\x03 \\x01(\\t\\x12\\x13\\n\\x0b\\x64\\x65scription\\x18\\x04 \\x01(\\t\"V\\n\\x04Help\\x12$\\n\\x05links\\x18\\x01 \\x03(\\x0b\\x32\\x15.google.rpc.Help.Link\\x1a(\\n\\x04Link\\x12\\x13\\n\\x0b\\x64\\x65scription\\x18\\x01 \\x01(\\t\\x12\\x0b\\n\\x03url\\x18\\x02 \\x01(\\t\"3\\n\\x10LocalizedMessage\\x12\\x0e\\n\\x06locale\\x18\\x01 \\x01(\\t\\x12\\x0f\\n\\x07message\\x18\\x02 \\x01(\\tBl\\n\\x0e\\x63om.google.rpcB\\x11\\x45rrorDetailsProtoP\\x01Z?google.golang.org/genproto/googleapis/rpc/errdetails;errdetails\\xa2\\x02\\x03RPCb\\x06proto3'\u001b[0m\u001b[1;33m,\u001b[0m\u001b[1;33m\u001b[0m\u001b[0m\n\u001b[0;32m     40\u001b[0m     \u001b[0mdependencies\u001b[0m\u001b[1;33m=\u001b[0m\u001b[1;33m[\u001b[0m\u001b[0mgoogle_dot_protobuf_dot_duration__pb2\u001b[0m\u001b[1;33m.\u001b[0m\u001b[0mDESCRIPTOR\u001b[0m\u001b[1;33m]\u001b[0m\u001b[1;33m,\u001b[0m\u001b[1;33m\u001b[0m\u001b[0m\n",
      "\u001b[1;31mAttributeError\u001b[0m: module 'google.protobuf.descriptor' has no attribute '_internal_create_key'"
     ]
    }
   ],
   "source": [
    "import os\n",
    "from google.cloud import speech, storage\n",
    "\n",
    "YOUR_SERVICE = 'speechtotext.json'\n",
    "YOUR_AUDIO = '30.flac'\n",
    "YOUR_BUCKET = 'coral-shift-145404.appspot.com'\n",
    "\n",
    "os.environ['GOOGLE_APPLICATION_CREDENTIALS'] = YOUR_SERVICE\n",
    "\n",
    "storage_client = storage.Client()\n",
    "speech_client = speech.SpeechClient()"
   ]
  },
  {
   "cell_type": "code",
   "execution_count": null,
   "id": "19b43c23",
   "metadata": {},
   "outputs": [],
   "source": [
    "# upload file to GCS(Google Cloud Storage)\n",
    "bucket = storage_client.bucket(YOUR_BUCKET)\n",
    "bucket.blob(YOUR_AUDIO).upload_from_filename(YOUR_AUDIO)\n",
    "uri = f'gs://{YOUR_BUCKET}/{YOUR_AUDIO}'"
   ]
  },
  {
   "cell_type": "code",
   "execution_count": null,
   "id": "7ab6c2e0",
   "metadata": {},
   "outputs": [],
   "source": [
    "# Transcript the audio\n",
    "audio = speech.RecognitionAudio(uri=uri)\n",
    "config = speech.RecognitionConfig(\n",
    "encoding=speech.RecognitionConfig.AudioEncoding.FLAC, # MP3 is under beta\n",
    "sample_rate_hertz=48000,\n",
    "audio_channel_count=2, # take care, default is 1\n",
    "language_code=\"zh-TW\"\n",
    ")\n",
    "response = speech_client.recognize(config=config, audio=audio)"
   ]
  },
  {
   "cell_type": "code",
   "execution_count": null,
   "id": "68302ae0",
   "metadata": {},
   "outputs": [],
   "source": [
    "for r in response.results:\n",
    "print(f'{r.alternatives[0].transcript}, {r.alternatives[0].confidence:.3f}')"
   ]
  },
  {
   "cell_type": "code",
   "execution_count": null,
   "id": "9f3e9aed",
   "metadata": {},
   "outputs": [],
   "source": []
  }
 ],
 "metadata": {
  "kernelspec": {
   "display_name": "Python 3",
   "language": "python",
   "name": "python3"
  },
  "language_info": {
   "codemirror_mode": {
    "name": "ipython",
    "version": 3
   },
   "file_extension": ".py",
   "mimetype": "text/x-python",
   "name": "python",
   "nbconvert_exporter": "python",
   "pygments_lexer": "ipython3",
   "version": "3.7.0"
  }
 },
 "nbformat": 4,
 "nbformat_minor": 5
}
