{
 "cells": [
  {
   "cell_type": "markdown",
   "metadata": {},
   "source": [
    "# Tokenizer and pad_sequences"
   ]
  },
  {
   "cell_type": "code",
   "execution_count": 1,
   "metadata": {},
   "outputs": [
    {
     "name": "stdout",
     "output_type": "stream",
     "text": [
      "['Some ThING to eat !', 'some thing to drink .', 'some thing']\n",
      "========\n",
      "OrderedDict([('some', 3), ('thing', 3), ('to', 2), ('eat', 1), ('drink', 1)])\n",
      "{'some': 1, 'thing': 2, 'to': 3, 'eat': 4, 'drink': 5}\n",
      "========\n",
      "[[1, 2, 3, 4], [1, 2, 3, 5], [1, 2]]\n",
      "found 5 unique tokens\n"
     ]
    }
   ],
   "source": [
    "from tensorflow.keras.preprocessing.text import Tokenizer\n",
    "from tensorflow.keras.preprocessing.sequence import pad_sequences\n",
    "\n",
    "text1 = 'Some ThING to eat !'\n",
    "text2 = 'some thing to drink .'\n",
    "text3 = 'some thing'\n",
    "texts=[text1,text2, text3]\n",
    "print(texts)\n",
    "print('========')\n",
    "tokenizer = Tokenizer(num_words=100) \n",
    "tokenizer.fit_on_texts(texts)\n",
    "print(tokenizer.word_counts) \n",
    "print(tokenizer.word_index) \n",
    "\n",
    "print('========')\n",
    "sequences = tokenizer.texts_to_sequences(texts)\n",
    "word_index = tokenizer.word_index\n",
    "print(sequences)\n",
    "print('found {} unique tokens'.format(len(word_index)))"
   ]
  },
  {
   "cell_type": "code",
   "execution_count": 2,
   "metadata": {},
   "outputs": [
    {
     "name": "stdout",
     "output_type": "stream",
     "text": [
      "[[1 2 3 4 0 0 0 0]\n",
      " [1 2 3 5 0 0 0 0]\n",
      " [1 2 0 0 0 0 0 0]]\n"
     ]
    }
   ],
   "source": [
    "pad_seq = pad_sequences(sequences, maxlen=8, padding='post')\n",
    "print(pad_seq)"
   ]
  },
  {
   "cell_type": "markdown",
   "metadata": {},
   "source": [
    "# IMDB (keras)"
   ]
  },
  {
   "cell_type": "code",
   "execution_count": 5,
   "metadata": {},
   "outputs": [
    {
     "name": "stdout",
     "output_type": "stream",
     "text": [
      "Loading data......\n",
      "25000 train sequences\n",
      "25000 test sequences\n",
      "Pad Sequences (samples x time\n",
      "input_train shape: (25000, 500)\n",
      "input_test shape: (25000, 500)\n",
      "Epoch 1/10\n",
      "157/157 [==============================] - 16s 98ms/step - loss: 0.6398 - acc: 0.6272 - val_loss: 0.5451 - val_acc: 0.7284\n",
      "Epoch 2/10\n",
      "157/157 [==============================] - 16s 99ms/step - loss: 0.4165 - acc: 0.8263 - val_loss: 0.3815 - val_acc: 0.8400\n",
      "Epoch 3/10\n",
      "157/157 [==============================] - 17s 108ms/step - loss: 0.2925 - acc: 0.8821 - val_loss: 0.3572 - val_acc: 0.8538\n",
      "Epoch 4/10\n",
      "157/157 [==============================] - 17s 107ms/step - loss: 0.2140 - acc: 0.9206 - val_loss: 0.3831 - val_acc: 0.8458\n",
      "Epoch 5/10\n",
      "157/157 [==============================] - 17s 107ms/step - loss: 0.1405 - acc: 0.9506 - val_loss: 0.4701 - val_acc: 0.8092\n",
      "Epoch 6/10\n",
      "157/157 [==============================] - 17s 108ms/step - loss: 0.0933 - acc: 0.9693 - val_loss: 0.4446 - val_acc: 0.8530\n",
      "Epoch 7/10\n",
      "157/157 [==============================] - 17s 108ms/step - loss: 0.0550 - acc: 0.9834 - val_loss: 0.7008 - val_acc: 0.7464\n",
      "Epoch 8/10\n",
      "157/157 [==============================] - 17s 107ms/step - loss: 0.0374 - acc: 0.9892 - val_loss: 0.6176 - val_acc: 0.7978\n",
      "Epoch 9/10\n",
      "157/157 [==============================] - 17s 107ms/step - loss: 0.0225 - acc: 0.9938 - val_loss: 0.6505 - val_acc: 0.8154\n",
      "Epoch 10/10\n",
      "157/157 [==============================] - 17s 107ms/step - loss: 0.0161 - acc: 0.9956 - val_loss: 0.7539 - val_acc: 0.7818\n"
     ]
    },
    {
     "data": {
      "image/png": "[encoded data removed]",
      "text/plain": [
       "<Figure size 432x288 with 1 Axes>"
      ]
     },
     "metadata": {
      "needs_background": "light"
     },
     "output_type": "display_data"
    },
    {
     "data": {
      "image/png": "[encoded data removed]",
      "text/plain": [
       "<Figure size 432x288 with 1 Axes>"
      ]
     },
     "metadata": {
      "needs_background": "light"
     },
     "output_type": "display_data"
    }
   ],
   "source": [
    "from tensorflow.keras.datasets import imdb\n",
    "from tensorflow.keras.preprocessing import sequence\n",
    "import tensorflow as tf\n",
    "from tensorflow import keras\n",
    "\n",
    "max_features = 10000\n",
    "maxlen = 500\n",
    "batch_size = 32\n",
    "\n",
    "print('Loading data......')\n",
    "(input_train, y_train), (input_test, y_test) = imdb.load_data(num_words=max_features)\n",
    "print(len(input_train), 'train sequences')\n",
    "print(len(input_test), 'test sequences')\n",
    "\n",
    "input_train = sequence.pad_sequences(input_train, maxlen=maxlen)\n",
    "input_test = sequence.pad_sequences(input_test, maxlen=maxlen)\n",
    "print('input_train shape:', input_train.shape)\n",
    "print('input_test shape:', input_test.shape)\n",
    "\n",
    "from tensorflow.keras.layers import Dense, Embedding\n",
    "\n",
    "model = keras.Sequential()\n",
    "model.add(tf.keras.layers.Embedding(max_features, 32))\n",
    "model.add(tf.keras.layers.SimpleRNN(32))\n",
    "model.add(tf.keras.layers.Dense(1, activation='sigmoid'))\n",
    "\n",
    "model.compile(optimizer='rmsprop', loss='binary_crossentropy', metrics=['acc'])\n",
    "hist = model.fit(input_train, y_train,\n",
    "                 epochs=10,\n",
    "                 batch_size=128,\n",
    "                 validation_split=0.2)\n",
    "\n",
    "import matplotlib.pyplot as plt\n",
    "\n",
    "acc = hist.history['acc']\n",
    "val_acc = hist.history['val_acc']\n",
    "loss = hist.history['loss']\n",
    "val_loss = hist.history['val_loss']\n",
    "\n",
    "epochs = range(len(acc))\n",
    "\n",
    "plt.plot(epochs, acc, 'bo', label='Training acc')\n",
    "plt.plot(epochs, val_acc, 'b', label='Validation acc')\n",
    "plt.title('Training and validation accuracy')\n",
    "plt.legend()\n",
    "plt.figure()\n",
    "\n",
    "plt.plot(epochs, loss, 'bo', label='Training loss')\n",
    "plt.plot(epochs, val_loss, 'b', label='Validation loss')\n",
    "plt.title('Training and validation loss')\n",
    "plt.legend()\n",
    "\n",
    "plt.show()\n"
   ]
  },
  {
   "cell_type": "code",
   "execution_count": null,
   "metadata": {},
   "outputs": [],
   "source": []
  }
 ],
 "metadata": {
  "kernelspec": {
   "display_name": "Python 3",
   "language": "python",
   "name": "python3"
  },
  "language_info": {
   "codemirror_mode": {
    "name": "ipython",
    "version": 3
   },
   "file_extension": ".py",
   "mimetype": "text/x-python",
   "name": "python",
   "nbconvert_exporter": "python",
   "pygments_lexer": "ipython3",
   "version": "3.7.9"
  }
 },
 "nbformat": 4,
 "nbformat_minor": 4
}
