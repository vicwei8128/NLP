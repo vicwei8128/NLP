{
 "cells": [
  {
   "cell_type": "markdown",
   "metadata": {},
   "source": [
    "# Tokenize"
   ]
  },
  {
   "cell_type": "code",
   "execution_count": 1,
   "metadata": {},
   "outputs": [
    {
     "name": "stderr",
     "output_type": "stream",
     "text": [
      "Building prefix dict from the default dictionary ...\n",
      "Loading model from cache C:\\Users\\user\\AppData\\Local\\Temp\\jieba.cache\n",
      "Loading model cost 0.587 seconds.\n",
      "Prefix dict has been built successfully.\n"
     ]
    },
    {
     "name": "stdout",
     "output_type": "stream",
     "text": [
      "word 足球\t\t start: 0 \t\t end:2\n",
      "word 運動\t\t start: 2 \t\t end:4\n",
      "word 需要\t\t start: 4 \t\t end:6\n",
      "word 大家\t\t start: 6 \t\t end:8\n",
      "word 一起\t\t start: 8 \t\t end:10\n",
      "word 來\t\t start: 10 \t\t end:11\n",
      "word 推廣\t\t start: 11 \t\t end:13\n",
      "word ，\t\t start: 13 \t\t end:14\n",
      "word 歡迎\t\t start: 14 \t\t end:16\n",
      "word 加入\t\t start: 16 \t\t end:18\n",
      "word 我們\t\t start: 18 \t\t end:20\n",
      "word 的\t\t start: 20 \t\t end:21\n",
      "word 行列\t\t start: 21 \t\t end:23\n",
      "word ！\t\t start: 23 \t\t end:24\n"
     ]
    }
   ],
   "source": [
    "import jieba\n",
    "sentence = \"足球運動需要大家一起來推廣，歡迎加入我們的行列！\"\n",
    "words = jieba.tokenize(sentence)\n",
    "for tk in words:\n",
    "    print(\"word {}\\t\\t start: {} \\t\\t end:{}\".format(tk[0],tk[1],tk[2]))"
   ]
  },
  {
   "cell_type": "code",
   "execution_count": 6,
   "metadata": {},
   "outputs": [
    {
     "name": "stdout",
     "output_type": "stream",
     "text": [
      "Input：台積電法說會報喜，昨（17）日雖受農曆封關將至，外資持續賣超拖累股價，不過外資券商研究部門對台積電後市依舊充滿憧憬，包括花旗、摩根大通等十大外資全數按「讚」，其中花旗環球更把台積電目標價升上402元，創下外資圈首對權王喊上「4」字頭。\n",
      "台積電去年營運大反彈，外資圈法說會前便掀起調升潮，會後受台積電釋出強勁展望，花旗再登高喊出逾400元目標價，持續炒熱話題。\n",
      "此波同步調升的指標外資，還有高盛證券將台積電升上390元、摩根大通升到370元，?豐、摩根士丹利等七外資雖維持目標價，但均已拉高到360元之上；共十大外資全數重申「買進」。昨日外資連三賣台積電、賣超1.7萬張，合計賣超達6萬張，不過獲八大公股行庫與壽險等進場買進，終場跌幅收斂，跌1.5元收333元。台積電ADR在17日美股早盤小跌0.6%。\n",
      "花旗環球證券台灣區研究部主管徐振志指出，先前花旗已上修台積電財測，但實際展望優於預期，訂單動能相當強，看好台積電今年業績還會飛速前進，評價表現再上層樓。\n",
      "台積電展望今年營收成長17%，花旗預估可達1.33兆元，總獲利突破4,600億元，將比去年跳增35%，比營收增幅還高；每股純益（EPS）同步挑戰17.99元的新紀錄，2021年賺逾兩股本。\n",
      "徐振志表示，包括5G裝置拉貨、超微新晶片推出、資料中心擴張，都是台積營運支柱。以製程來看，預估今年7奈米營收比重達34%，上半年導入的5奈米也有機會升到10%，計入資本支出成本，毛利率上探50%-51%，推升獲利大躍進。\n",
      "高盛認為，短期華為受美國制裁消息，可能不利台積電重啟漲勢，但大幅拉高資本支出的訊息，凸顯5G、AI需求轉強，同時也緩和市場對先進製程市占被瓜分的疑慮。長線投資人更有信心長抱台積獲取良好回報。\n",
      "摩根大通科技產業研究部主管哈戈谷也表示，華為利空可能讓台積接下來一段時間「區間震盪」，但來自5G和HPC耗用更大體積及更多晶片的需求不變，業績將續創高峰；隨市場氣氛好轉，台積可望優先獲熱錢回補。\n",
      "Output：\n",
      "台積,外資,台積電,花旗,5G,研究部,17,賣超,不過,全數\n"
     ]
    }
   ],
   "source": [
    "import jieba\n",
    "import jieba.analyse\n",
    "\n",
    "\n",
    "content = open('./dataset/news.txt', 'r').read()\n",
    "\n",
    "print(\"Input：{}\".format(content))\n",
    "\n",
    "tags = jieba.analyse.extract_tags(content, 10)\n",
    "\n",
    "print(\"Output：\")\n",
    "print(\",\".join(tags))"
   ]
  },
  {
   "cell_type": "markdown",
   "metadata": {},
   "source": [
    "# Bag of Word and N-Gram"
   ]
  },
  {
   "cell_type": "code",
   "execution_count": 1,
   "metadata": {},
   "outputs": [
    {
     "name": "stdout",
     "output_type": "stream",
     "text": [
      "Vocabulary size: 6\n",
      "Vocabulary content:\n",
      " {'fool': 1, 'doth': 0, 'think': 4, 'wise': 5, 'man': 3, 'knows': 2}\n",
      "Features name:\n",
      "['doth', 'fool', 'knows', 'man', 'think', 'wise']\n",
      "Dense representation of bag_of_words:\n",
      "[[1 1 0 0 1 1]\n",
      " [0 1 1 1 0 1]]\n"
     ]
    }
   ],
   "source": [
    "from sklearn.feature_extraction.text import CountVectorizer\n",
    "\n",
    "bards_words =[\"The fool doth think he is wise,\",\n",
    "              \"but the wise man knows himself to be a fool\"]\n",
    "\n",
    "\n",
    "#vect = CountVectorizer()\n",
    "vect = CountVectorizer(stop_words=\"english\")\n",
    "vect.fit(bards_words)\n",
    "\n",
    "\n",
    "print(\"Vocabulary size: {}\".format(len(vect.vocabulary_)))\n",
    "print(\"Vocabulary content:\\n {}\".format(vect.vocabulary_))\n",
    "\n",
    "bag_of_words = vect.transform(bards_words)\n",
    "print(\"Features name:\\n{}\".format(vect.get_feature_names()))\n",
    "print(\"Dense representation of bag_of_words:\\n{}\".format(bag_of_words.toarray()))\n",
    " "
   ]
  },
  {
   "cell_type": "code",
   "execution_count": 3,
   "metadata": {},
   "outputs": [
    {
     "name": "stdout",
     "output_type": "stream",
     "text": [
      "Vocabulary size: 13\n",
      "Vocabulary:\n",
      "['be', 'but', 'doth', 'fool', 'he', 'himself', 'is', 'knows', 'man', 'the', 'think', 'to', 'wise']\n",
      "Vocabulary size: 14\n",
      "Vocabulary:\n",
      "['be fool', 'but the', 'doth think', 'fool doth', 'he is', 'himself to', 'is wise', 'knows himself', 'man knows', 'the fool', 'the wise', 'think he', 'to be', 'wise man']\n",
      "Transformed data (dense):\n",
      "[[0 0 1 1 1 0 1 0 0 1 0 1 0 0]\n",
      " [1 1 0 0 0 1 0 1 1 0 1 0 1 1]]\n"
     ]
    }
   ],
   "source": [
    "from sklearn.feature_extraction.text import CountVectorizer\n",
    "bards_words =[\"The fool doth think he is wise\",\n",
    "              \"but the wise man knows himself to be a fool\"]\n",
    "\n",
    "vect1 = CountVectorizer(ngram_range=(1, 1)).fit(bards_words)\n",
    "print(\"Vocabulary size: {}\".format(len(vect1.vocabulary_)))\n",
    "print(\"Vocabulary:\\n{}\".format(vect1.get_feature_names()))\n",
    "\n",
    "vect2 = CountVectorizer(ngram_range=(2, 2)).fit(bards_words)\n",
    "print(\"Vocabulary size: {}\".format(len(vect2.vocabulary_)))\n",
    "print(\"Vocabulary:\\n{}\".format(vect2.get_feature_names()))\n",
    "print(\"Transformed data (dense):\\n{}\".format(vect2.transform(bards_words).toarray()))"
   ]
  },
  {
   "cell_type": "markdown",
   "metadata": {},
   "source": [
    "# POS Tagging"
   ]
  },
  {
   "cell_type": "code",
   "execution_count": 5,
   "metadata": {},
   "outputs": [
    {
     "name": "stdout",
     "output_type": "stream",
     "text": [
      "今天 t\n",
      "天氣 n\n",
      "很 d\n",
      "好 a\n"
     ]
    }
   ],
   "source": [
    "import jieba.posseg as pseg\n",
    "words = pseg.cut(\"今天天氣很好\")\n",
    "for w in words:\n",
    "    print('{} {}'.format(w.word, w.flag))"
   ]
  },
  {
   "cell_type": "code",
   "execution_count": null,
   "metadata": {},
   "outputs": [],
   "source": []
  }
 ],
 "metadata": {
  "kernelspec": {
   "display_name": "Python 3",
   "language": "python",
   "name": "python3"
  },
  "language_info": {
   "codemirror_mode": {
    "name": "ipython",
    "version": 3
   },
   "file_extension": ".py",
   "mimetype": "text/x-python",
   "name": "python",
   "nbconvert_exporter": "python",
   "pygments_lexer": "ipython3",
   "version": "3.7.7"
  }
 },
 "nbformat": 4,
 "nbformat_minor": 2
}
