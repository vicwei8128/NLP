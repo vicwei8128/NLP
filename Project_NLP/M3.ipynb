{
 "cells": [
  {
   "cell_type": "markdown",
   "metadata": {},
   "source": [
    "# TF-IDF  \n",
    "`pip install scikit-learn`"
   ]
  },
  {
   "cell_type": "code",
   "execution_count": 1,
   "metadata": {},
   "outputs": [
    {
     "name": "stdout",
     "output_type": "stream",
     "text": [
      "['and', 'document', 'first', 'is', 'one', 'second', 'the', 'third', 'this']\n",
      "[[0.         0.43877674 0.54197657 0.43877674 0.         0.\n",
      "  0.35872874 0.         0.43877674]\n",
      " [0.         0.27230147 0.         0.27230147 0.         0.85322574\n",
      "  0.22262429 0.         0.27230147]\n",
      " [0.55280532 0.         0.         0.         0.55280532 0.\n",
      "  0.28847675 0.55280532 0.        ]\n",
      " [0.         0.43877674 0.54197657 0.43877674 0.         0.\n",
      "  0.35872874 0.         0.43877674]]\n",
      "-------output 0-th document tf-idf weight------\n",
      "and 0.0\n",
      "document 0.4387767428592343\n",
      "first 0.5419765697264572\n",
      "is 0.4387767428592343\n",
      "one 0.0\n",
      "second 0.0\n",
      "the 0.35872873824808993\n",
      "third 0.0\n",
      "this 0.4387767428592343\n",
      "-------output 1-th document tf-idf weight------\n",
      "and 0.0\n",
      "document 0.27230146752334033\n",
      "first 0.0\n",
      "is 0.27230146752334033\n",
      "one 0.0\n",
      "second 0.8532257361452784\n",
      "the 0.2226242923251039\n",
      "third 0.0\n",
      "this 0.27230146752334033\n",
      "-------output 2-th document tf-idf weight------\n",
      "and 0.5528053199908667\n",
      "document 0.0\n",
      "first 0.0\n",
      "is 0.0\n",
      "one 0.5528053199908667\n",
      "second 0.0\n",
      "the 0.2884767487500274\n",
      "third 0.5528053199908667\n",
      "this 0.0\n",
      "-------output 3-th document tf-idf weight------\n",
      "and 0.0\n",
      "document 0.4387767428592343\n",
      "first 0.5419765697264572\n",
      "is 0.4387767428592343\n",
      "one 0.0\n",
      "second 0.0\n",
      "the 0.35872873824808993\n",
      "third 0.0\n",
      "this 0.4387767428592343\n"
     ]
    }
   ],
   "source": [
    "# TF-IDF\n",
    "from sklearn.feature_extraction.text import TfidfVectorizer\n",
    "corpus = [\n",
    "    'This is the first document.',\n",
    "    'This is the second second document.',\n",
    "    'And the third one.',\n",
    "    'Is this the first document?',\n",
    "]\n",
    "\n",
    "\n",
    "model = TfidfVectorizer(analyzer='word', ngram_range=(1, 1), min_df=0)\n",
    "tfidf = model.fit_transform(corpus)\n",
    "\n",
    "word = model.get_feature_names()\n",
    "print(word)\n",
    "\n",
    "\n",
    "tfidf_weight = tfidf.toarray() \n",
    "print(tfidf_weight)\n",
    "\n",
    "\n",
    "\n",
    "for i in range(len(tfidf_weight)):\n",
    "    print(\"-------output {}-th document tf-idf weight------\".format(i))\n",
    "    for j in range(len(word)):\n",
    "        print(word[j],tfidf_weight[i][j])"
   ]
  },
  {
   "cell_type": "code",
   "execution_count": null,
   "metadata": {},
   "outputs": [],
   "source": []
  }
 ],
 "metadata": {
  "kernelspec": {
   "display_name": "Python 3",
   "language": "python",
   "name": "python3"
  },
  "language_info": {
   "codemirror_mode": {
    "name": "ipython",
    "version": 3
   },
   "file_extension": ".py",
   "mimetype": "text/x-python",
   "name": "python",
   "nbconvert_exporter": "python",
   "pygments_lexer": "ipython3",
   "version": "3.7.7"
  }
 },
 "nbformat": 4,
 "nbformat_minor": 4
}
