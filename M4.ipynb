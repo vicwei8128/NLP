{
 "cells": [
  {
   "cell_type": "markdown",
   "metadata": {},
   "source": [
    "# Chinese word segmentation"
   ]
  },
  {
   "cell_type": "markdown",
   "metadata": {},
   "source": [
    "`pip install jieba`  \n",
    "\n",
    "精確模式 ：將句子最精確地切開，叫適合文本分析。  \n",
    "寫法:words = jieba.cut(content, cut_all=False)  \n",
    "  \n",
    "全模式：把句子中所有的可以成詞的詞語都掃描出來, 速度快。  \n",
    "寫法:words = jieba.cut(content, cut_all=True)    \n",
    "  \n",
    "搜索引擎模式：在精確模式的基礎上對長詞再次切分，提高召回率，適合用於搜尋引擎分詞。                                                                        寫法:jieba.cut_for_search(Content)"
   ]
  },
  {
   "cell_type": "code",
   "execution_count": 2,
   "metadata": {},
   "outputs": [
    {
     "name": "stderr",
     "output_type": "stream",
     "text": [
      "Building prefix dict from the default dictionary ...\n",
      "Loading model from cache C:\\Users\\user\\AppData\\Local\\Temp\\jieba.cache\n"
     ]
    },
    {
     "name": "stdout",
     "output_type": "stream",
     "text": [
      "輸入： 足球運動需要大家一起來推廣，歡迎加入我們的行列！\n",
      "精確模式： "
     ]
    },
    {
     "name": "stderr",
     "output_type": "stream",
     "text": [
      "Loading model cost 0.595 seconds.\n",
      "Prefix dict has been built successfully.\n"
     ]
    },
    {
     "name": "stdout",
     "output_type": "stream",
     "text": [
      "足球/運動/需要/大家/一起/來/推廣/，/歡迎/加入/我們/的/行列/！/\n",
      "全模式： 足球/運/動/需要/大家/一起/來/推/廣/，/歡/迎/加入/我/們/的/行列/！/\n",
      "搜索引擎模式： 足球/運動/需要/大家/一起/來/推廣/，/歡迎/加入/我們/的/行列/！/"
     ]
    }
   ],
   "source": [
    "import jieba\n",
    "\n",
    "sentence = \"足球運動需要大家一起來推廣，歡迎加入我們的行列！\"\n",
    "print(\"輸入： {}\".format(sentence))\n",
    "words1 = jieba.cut(sentence, cut_all=False)\n",
    "words2 = jieba.cut(sentence, cut_all=True)\n",
    "words3 = jieba.cut_for_search(sentence)\n",
    "\n",
    "print(\"精確模式：\", end=' ')\n",
    "for word in words1:\n",
    "    print(word+'/', end='')\n",
    "\n",
    "print('')\n",
    "\n",
    "print(\"全模式：\", end=' ')\n",
    "for word in words2:\n",
    "    print(word+'/', end='')\n",
    "\n",
    "print('')\n",
    "\n",
    "print(\"搜索引擎模式：\", end=' ')\n",
    "for word in words3:\n",
    "    print(word+'/', end='')\n"
   ]
  },
  {
   "cell_type": "code",
   "execution_count": 3,
   "metadata": {},
   "outputs": [
    {
     "name": "stdout",
     "output_type": "stream",
     "text": [
      "考試/即將/結束/\n",
      "考試/即將結束/"
     ]
    }
   ],
   "source": [
    "text = '考試即將結束'\n",
    "words1 = jieba.cut(text, cut_all=False)\n",
    "for word in words1:\n",
    "    print(word+'/', end='')\n",
    "\n",
    "print('')\n",
    "\n",
    "# 加入字詞 jieba.add_word(word, freq=None, tag=None)\n",
    "jieba.add_word('即將結束', freq=None, tag=None)\n",
    "\n",
    "# 載入自定義詞庫 jieba.load_userdict(file_path)\n",
    "jieba.load_userdict('dict.txt')\n",
    "\n",
    "words1 = jieba.cut(text, cut_all=False)\n",
    "for word in words1:\n",
    "    print(word+'/', end='')"
   ]
  },
  {
   "cell_type": "code",
   "execution_count": null,
   "metadata": {},
   "outputs": [],
   "source": []
  }
 ],
 "metadata": {
  "kernelspec": {
   "display_name": "Python 3",
   "language": "python",
   "name": "python3"
  },
  "language_info": {
   "codemirror_mode": {
    "name": "ipython",
    "version": 3
   },
   "file_extension": ".py",
   "mimetype": "text/x-python",
   "name": "python",
   "nbconvert_exporter": "python",
   "pygments_lexer": "ipython3",
   "version": "3.7.7"
  }
 },
 "nbformat": 4,
 "nbformat_minor": 2
}
