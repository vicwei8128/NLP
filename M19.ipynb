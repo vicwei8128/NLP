{
 "cells": [
  {
   "cell_type": "markdown",
   "metadata": {},
   "source": [
    "# Install Transformers   \n",
    "`pip install transformers`  \n",
    "https://github.com/huggingface/transformers  "
   ]
  },
  {
   "cell_type": "code",
   "execution_count": 1,
   "metadata": {},
   "outputs": [
    {
     "name": "stdout",
     "output_type": "stream",
     "text": [
      "[101, 8667, 117, 1293, 1132, 1128, 136, 102]\n",
      "[CLS] Hello, how are you? [SEP]\n"
     ]
    }
   ],
   "source": [
    "from transformers import BertTokenizer\n",
    "\n",
    "tokenizer = BertTokenizer.from_pretrained(\"bert-base-cased\")\n",
    "\n",
    "\n",
    "test_input = \"Hello, how are you?\"\n",
    "\n",
    "encode_result = tokenizer.encode(test_input)  # 使用 encode() 來對文字進行斷詞、編碼。\n",
    "print(encode_result)\n",
    "\n",
    "decode_result = tokenizer.decode(encode_result) # 使用 decode() 來將 id 轉換回文字。\n",
    "print(decode_result)\n"
   ]
  },
  {
   "cell_type": "code",
   "execution_count": 2,
   "metadata": {},
   "outputs": [
    {
     "name": "stdout",
     "output_type": "stream",
     "text": [
      "[8667, 117, 1293, 1132, 1128, 136]\n",
      "Hello, how are you?\n"
     ]
    }
   ],
   "source": [
    "encode_result = tokenizer.encode(test_input, add_special_tokens=False) # 編碼過程中，移除特殊符號\n",
    "print(encode_result) \n",
    "\n",
    "\n",
    "decode_result = tokenizer.decode(encode_result) # 使用 decode() 來將 id 轉換回文字。\n",
    "print(decode_result)"
   ]
  },
  {
   "cell_type": "code",
   "execution_count": 3,
   "metadata": {},
   "outputs": [
    {
     "name": "stderr",
     "output_type": "stream",
     "text": [
      "Some layers from the model checkpoint at bert-base-uncased were not used when initializing TFBertModel: ['nsp___cls', 'mlm___cls']\n",
      "- This IS expected if you are initializing TFBertModel from the checkpoint of a model trained on another task or with another architecture (e.g. initializing a BertForSequenceClassification model from a BertForPreTraining model).\n",
      "- This IS NOT expected if you are initializing TFBertModel from the checkpoint of a model that you expect to be exactly identical (initializing a BertForSequenceClassification model from a BertForSequenceClassification model).\n",
      "All the layers of TFBertModel were initialized from the model checkpoint at bert-base-uncased.\n",
      "If your task is similar to the task the model of the checkpoint was trained on, you can already use TFBertModel for predictions without further training.\n"
     ]
    },
    {
     "name": "stdout",
     "output_type": "stream",
     "text": [
      "tf.Tensor([[ 101 7592 1010 2129 2024 2017 1029  102]], shape=(1, 8), dtype=int32)\n",
      "(1, 8, 768)\n",
      "tf.Tensor(\n",
      "[[[-0.08241833  0.06667351 -0.28802282 ... -0.35655573  0.19599831\n",
      "    0.5381454 ]\n",
      "  [ 0.03103659 -0.14484799  0.09522448 ... -0.15599084  1.0150985\n",
      "    0.09465623]\n",
      "  [-0.8935154   0.32402298  0.4184376  ... -0.5498076   0.28525198\n",
      "    0.11490017]\n",
      "  ...\n",
      "  [-0.28124684 -0.8531223   0.69123876 ... -0.50514686  0.47161824\n",
      "   -0.68543434]\n",
      "  [-0.442949   -0.7820228  -0.80554837 ...  0.1949435   0.10810447\n",
      "    0.01300363]\n",
      "  [ 0.5569922  -0.10795379 -0.24119979 ...  0.28168523 -0.39957386\n",
      "   -0.1882331 ]]], shape=(1, 8, 768), dtype=float32)\n"
     ]
    }
   ],
   "source": [
    "from transformers import BertTokenizer, TFBertModel\n",
    "\n",
    "\n",
    "text = \"Hello, how are you?\"\n",
    "\n",
    "tokenizer = BertTokenizer.from_pretrained('bert-base-uncased')\n",
    "model = TFBertModel.from_pretrained(\"bert-base-uncased\")\n",
    "encoded_input = tokenizer(text, return_tensors='tf')\n",
    "\n",
    "print(encoded_input['input_ids'])\n",
    "output = model(encoded_input)\n",
    "\n",
    "print(output['last_hidden_state'].shape)\n",
    "print(output['last_hidden_state'])\n"
   ]
  },
  {
   "cell_type": "code",
   "execution_count": null,
   "metadata": {},
   "outputs": [],
   "source": []
  }
 ],
 "metadata": {
  "kernelspec": {
   "display_name": "Python 3",
   "language": "python",
   "name": "python3"
  },
  "language_info": {
   "codemirror_mode": {
    "name": "ipython",
    "version": 3
   },
   "file_extension": ".py",
   "mimetype": "text/x-python",
   "name": "python",
   "nbconvert_exporter": "python",
   "pygments_lexer": "ipython3",
   "version": "3.7.9"
  }
 },
 "nbformat": 4,
 "nbformat_minor": 4
}
